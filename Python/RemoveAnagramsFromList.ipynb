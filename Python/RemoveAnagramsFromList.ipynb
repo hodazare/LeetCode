{
 "cells": [
  {
   "cell_type": "markdown",
   "metadata": {},
   "source": [
    "# Fun with Anagrams\n",
    "### Given an array of strings, remove each string that is an anagram of an earlier string, then return the remaining array in sorted order."
   ]
  },
  {
   "cell_type": "markdown",
   "metadata": {},
   "source": [
    "#### check if two words are anagram using \"Counter\""
   ]
  },
  {
   "cell_type": "code",
   "execution_count": 1,
   "metadata": {},
   "outputs": [],
   "source": [
    "from collections import Counter\n",
    "def isAnagram(word1, word2):\n",
    "    return Counter(word1) == Counter(word2) "
   ]
  },
  {
   "cell_type": "markdown",
   "metadata": {},
   "source": [
    "#### check if two words are anagram comparing the number of their characters"
   ]
  },
  {
   "cell_type": "code",
   "execution_count": 2,
   "metadata": {},
   "outputs": [],
   "source": [
    "def isAnagramCh(word1, word2):\n",
    "    char_count = {}\n",
    "    for ch in word1:\n",
    "        char_count[ch] = char_count.get(ch, 0) + 1\n",
    "    for ch in word2:\n",
    "        char_count[ch] = char_count.get(ch, 0) - 1\n",
    "    return len(char_count) == 0"
   ]
  },
  {
   "cell_type": "markdown",
   "metadata": {},
   "source": [
    "#### loop through list of strings add anagram string to a dictionary"
   ]
  },
  {
   "cell_type": "code",
   "execution_count": 3,
   "metadata": {},
   "outputs": [],
   "source": [
    "def dict_anagrams(word, words, dict_anagram):\n",
    "    for other_word in words:\n",
    "        if other_word not in dict_anagram.keys() and isAnagram(other_word, word):\n",
    "            dict_anagram[other_word] = 1 \n",
    "    return dict_anagram\n",
    "def addAnagrams(s):\n",
    "    dict_anagram = {}\n",
    "    for word in s:\n",
    "        dict_anagram = dict_anagrams(word, s[s.index(word) + 1:], dict_anagram)\n",
    "    return dict_anagram"
   ]
  },
  {
   "cell_type": "markdown",
   "metadata": {},
   "source": [
    "#### remove anagrams that exists in the dictionary"
   ]
  },
  {
   "cell_type": "code",
   "execution_count": 9,
   "metadata": {},
   "outputs": [],
   "source": [
    "def removeAnagrams(s, dict_anagram):\n",
    "    for key in dict_anagram:\n",
    "        s.remove(key)\n",
    "    s.sort()\n",
    "    return s"
   ]
  },
  {
   "cell_type": "code",
   "execution_count": 10,
   "metadata": {},
   "outputs": [],
   "source": [
    "def funWithAnagrams(s):\n",
    "    s, dict_anagram = addAnagrams(s)\n",
    "    return removeAnagrams(s, dict_anagram)"
   ]
  },
  {
   "cell_type": "code",
   "execution_count": 11,
   "metadata": {},
   "outputs": [
    {
     "data": {
      "text/plain": [
       "['aaagmnrs', 'code']"
      ]
     },
     "execution_count": 11,
     "metadata": {},
     "output_type": "execute_result"
    }
   ],
   "source": [
    "s = ['code','aaagmnrs','anagrams','doce']\n",
    "funWithAnagrams(s)"
   ]
  }
 ],
 "metadata": {
  "kernelspec": {
   "display_name": "Python 3",
   "language": "python",
   "name": "python3"
  },
  "language_info": {
   "codemirror_mode": {
    "name": "ipython",
    "version": 3
   },
   "file_extension": ".py",
   "mimetype": "text/x-python",
   "name": "python",
   "nbconvert_exporter": "python",
   "pygments_lexer": "ipython3",
   "version": "3.7.4"
  }
 },
 "nbformat": 4,
 "nbformat_minor": 2
}
